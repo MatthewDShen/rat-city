{
 "cells": [
  {
   "cell_type": "code",
   "execution_count": 12,
   "metadata": {},
   "outputs": [],
   "source": [
    "import pandas as pd\n",
    "import matplotlib.pyplot as plt\n",
    "import seaborn as sns\n",
    "import plotly.express as px\n",
    "import geopandas as gpd"
   ]
  },
  {
   "cell_type": "code",
   "execution_count": 13,
   "metadata": {},
   "outputs": [
    {
     "name": "stderr",
     "output_type": "stream",
     "text": [
      "C:\\Users\\abonc\\AppData\\Local\\Temp\\ipykernel_38132\\906343043.py:4: DtypeWarning: Columns (17,33) have mixed types. Specify dtype option on import or set low_memory=False.\n",
      "  rats_df = pd.read_csv('C:\\\\Users\\\\abonc\\\\OneDrive\\\\CornellTech\\\\Classes\\\\INFO 5268 PAML\\\\Project\\\\311_Rodent_Complaints.csv')\n"
     ]
    }
   ],
   "source": [
    "# read in datasets\n",
    "restInspections = pd.read_csv('raw_data\\DOHMH_New_York_City_Restaurant_Inspection_Results.csv')\n",
    "openRest = pd.read_csv('raw_data\\Open_Restaurant_Applications.csv')\n",
    "rats_df = pd.read_csv('C:\\\\Users\\\\abonc\\\\OneDrive\\\\CornellTech\\\\Classes\\\\INFO 5268 PAML\\\\Project\\\\311_Rodent_Complaints.csv')\n",
    "zipcodes = gpd.read_file('raw_data\\\\ZIP_CODE.zip')\n"
   ]
  },
  {
   "attachments": {},
   "cell_type": "markdown",
   "metadata": {},
   "source": [
    "### Restaurant Inspection Dataset Data Cleaning"
   ]
  },
  {
   "attachments": {},
   "cell_type": "markdown",
   "metadata": {},
   "source": [
    "There are 202,467 rows in the dataset, relating to the number of inspections performed. However, each row is not a unique restaurant. Restaurants are supposed to be inspected each year, and will be reinspected if they have violations. We want only one data point for each restaurant for our analysis, specifically for 2022. This will be based on the \"CAMIS\" column, as that is a unique identifier for each restauruants (some restaurants might have the same name)"
   ]
  },
  {
   "attachments": {},
   "cell_type": "markdown",
   "metadata": {},
   "source": [
    "#### Initial Cleaning / Processing of dataset\n",
    "Initial cleaning of dataset consists of removing irreleviant features and filtering dataset for rows with missing data. Additionally, filtering for analysis year of 2022. Each restaurant is supposed to be inspected each year. Since we are looking at rat complaints from 2022, we want to look at the restaurant inspection results from that time period. If a restaurant was inspected more than once during that year (typically done if there were critical violations that needed to be fixed), we will take the average score for that restaurant"
   ]
  },
  {
   "cell_type": "code",
   "execution_count": 14,
   "metadata": {},
   "outputs": [],
   "source": [
    "# convert inspection data, grade data, and record data to datetime\n",
    "restInspections['INSPECTION DATE'] = pd.to_datetime(restInspections['INSPECTION DATE'])\n",
    "restInspections['GRADE DATE'] = pd.to_datetime(restInspections['GRADE DATE'])\n",
    "restInspections['RECORD DATE'] = pd.to_datetime(restInspections['RECORD DATE'])\n",
    "\n",
    "# filter out rows with no inspection grade\n",
    "restInspections = restInspections[restInspections['GRADE'].notna()]\n",
    "\n",
    "# filter out data that does not have lat / long in nyc\n",
    "restInspections = restInspections[restInspections['Latitude']>35]\n",
    "restInspections = restInspections[restInspections['Longitude']<-65]\n",
    "\n",
    "# filter for 2022 inspections only, since that is the year we are analyzing for rat complaints\n",
    "start_year = '2022-01-01'\n",
    "end_year = '2022-12-31'\n",
    "restInspections = restInspections[(restInspections['INSPECTION DATE']>=start_year) & (restInspections['INSPECTION DATE']<=end_year)]"
   ]
  },
  {
   "attachments": {},
   "cell_type": "markdown",
   "metadata": {},
   "source": [
    "Critical flags, establishment closed, and cuisine have been identified as features we want to explore as they related to our analysis. We will encode critical flag column and action column to bianary variables - 1 if there is a critical flag or establishment was closed and 0 if not. Cuisine will be one-hot encoded."
   ]
  },
  {
   "cell_type": "code",
   "execution_count": 15,
   "metadata": {},
   "outputs": [],
   "source": [
    "# critical flags are coded as 1, others are coded as 0\n",
    "restInspections['CRITICAL FLAG'] = restInspections['CRITICAL FLAG'].map({'Critical':1, 'Not Critical':0, 'Not Applicable' :0})\n",
    "# closing the restaurant actions are coded as 1, others are codded as 0\n",
    "restInspections['ACTION'] = restInspections['ACTION'].map({'Violations were cited in the following area(s).': 0,\n",
    "                                                           'Establishment Closed by DOHMH. Violations were cited in the following area(s) and those requiring immediate action were addressed.':1,\n",
    "                                                           'Establishment re-opened by DOHMH.':0,\n",
    "                                                           'No violations were recorded at the time of this inspection.': 0,\n",
    "                                                           'Establishment re-closed by DOHMH.':1})"
   ]
  },
  {
   "attachments": {},
   "cell_type": "markdown",
   "metadata": {},
   "source": [
    "Some restaurants have multiple rows for 2022. Additionally, sometimes they have multiple rows on the same inspection data; in those cases, the score given is the same, but the violation description and critical flag awarded can be different. We processes the data to get one row for each restaurant that represents the average score given and the average number of critical flags given across all inspection days for that year."
   ]
  },
  {
   "cell_type": "code",
   "execution_count": 16,
   "metadata": {},
   "outputs": [],
   "source": [
    "# group by each restaurant and each inspection date, find the number of critical flags for each date\n",
    "restInspections_critFlag = restInspections.groupby(by=['CAMIS', 'INSPECTION DATE']).sum().reset_index()\n",
    "restInspections_critFlag = restInspections_critFlag[['CAMIS', 'INSPECTION DATE', 'CRITICAL FLAG', 'ACTION']]\n",
    "\n",
    "# group by each restaurant and each inspection date to get the score for each inspection date\n",
    "restInspections_score = restInspections.groupby(by=['CAMIS', 'INSPECTION DATE']).mean().reset_index()\n",
    "restInspections_score = restInspections_score[['CAMIS', 'INSPECTION DATE', 'SCORE']]\n",
    "\n",
    "# join two datasets together to get total number of critical flags and the score for each inspection date (will now have one row for each inspection date with total critical flags given and score given)\n",
    "restInspections_byDate = restInspections_score.merge(restInspections_critFlag)\n",
    "\n",
    "# group by each restaurant and take the average score for each restaurant for all inspections in 2022\n",
    "restInspections_byCAMIS = restInspections_byDate.groupby(by='CAMIS').mean().reset_index()\n",
    "\n",
    "# take only the most recent inspection for each unique restaurant so we only have one row per restaurant (this data currently only includes relevant features like zipcode and cusinie description)\n",
    "restInspections.drop_duplicates(subset=['CAMIS'], keep='first', inplace=True)\n",
    "\n",
    "# merge the dataset containing the calculated average score and critical flags for each restaurant back with the zipcode and cusinie description\n",
    "restInspections = restInspections.merge(restInspections_byCAMIS, on='CAMIS')\n"
   ]
  },
  {
   "cell_type": "code",
   "execution_count": 17,
   "metadata": {},
   "outputs": [],
   "source": [
    "# drop irrelevant columns\n",
    "restInspections = restInspections.drop(['DBA','BUILDING', 'STREET', 'PHONE', 'GRADE DATE', 'GRADE', 'ACTION_x', 'CRITICAL FLAG_x' , 'SCORE_x',\n",
    "                                        'INSPECTION TYPE', 'VIOLATION CODE', 'VIOLATION DESCRIPTION', 'CAMIS', 'Latitude', 'Longitude', \n",
    "                                        'RECORD DATE','Community Board', 'Council District', 'Census Tract', \n",
    "                                        'BIN', 'BBL','NTA', 'Location Point1'], axis=1)\n",
    "\n",
    "restInspections.rename(columns={'SCORE_y': 'SCORE', 'CRITICAL FLAG_y': 'CRITICAL FLAG', 'ACTION_y': 'ACTION'}, inplace=True)\n"
   ]
  },
  {
   "cell_type": "code",
   "execution_count": 18,
   "metadata": {},
   "outputs": [],
   "source": [
    "# one-hot encode cuisine description\n",
    "processed_restInspections = pd.get_dummies(restInspections, columns = ['CUISINE DESCRIPTION'])"
   ]
  },
  {
   "cell_type": "code",
   "execution_count": 41,
   "metadata": {},
   "outputs": [],
   "source": [
    "# groupby zip code and sum together total score, total critical flags, total closures, and totals for each cuisine by zipcode \n",
    "processed_restInspections_sum = processed_restInspections.groupby(by='ZIPCODE').sum()\n",
    "\n",
    "# groupby zip code and take average score and average critical flags by zipcode\n",
    "processed_restInspections_avg = processed_restInspections.groupby(by='ZIPCODE').mean()[['SCORE', 'CRITICAL FLAG']]\n",
    "processed_restInspections_avg.rename(columns={'SCORE': 'AVG SCORE', 'CRITICAL FLAG': 'AVG FLAGS'}, inplace=True)\n",
    "\n",
    "# join average score and critical flag data with other dataframe\n",
    "processed_restInspections_df = processed_restInspections_sum.join(processed_restInspections_avg).reset_index()\n"
   ]
  },
  {
   "attachments": {},
   "cell_type": "markdown",
   "metadata": {},
   "source": [
    "### Open Restaurant Application Dataset Data Cleaning"
   ]
  },
  {
   "cell_type": "code",
   "execution_count": 20,
   "metadata": {},
   "outputs": [],
   "source": [
    "# convert date data to datetime\n",
    "openRest['Time of Submission'] = pd.to_datetime(openRest['Time of Submission'])\n",
    "\n",
    "# drop rows that don't have any lat / long\n",
    "openRest.dropna(subset=['Latitude'], inplace=True)\n",
    "\n",
    "# keep only relevant columns\n",
    "openRest = openRest[['Postcode', 'Food Service Establishment Permit #', 'Sidewalk Dimensions (Area)', \n",
    "                     'Roadway Dimensions (Area)', 'Approved for Sidewalk Seating', 'Approved for Roadway Seating', \n",
    "                     'Qualify Alcohol', 'Latitude', 'Longitude', 'Time of Submission']]"
   ]
  },
  {
   "cell_type": "code",
   "execution_count": 21,
   "metadata": {},
   "outputs": [],
   "source": [
    "processed_openRest = openRest.copy()\n",
    "\n",
    "# change yes/no to 1/0 for three categorical columns\n",
    "processed_openRest['Approved for Sidewalk Seating'] = processed_openRest['Approved for Sidewalk Seating'].map(dict(yes=1, no=0))\n",
    "processed_openRest['Approved for Roadway Seating'] = processed_openRest['Approved for Roadway Seating'].map(dict(yes=1, no=0))\n",
    "processed_openRest['Qualify Alcohol'] = processed_openRest['Qualify Alcohol'].map(dict(yes=1, no=0))"
   ]
  },
  {
   "cell_type": "code",
   "execution_count": 22,
   "metadata": {},
   "outputs": [],
   "source": [
    "# match open restaurant applications with restaurants that were active (had inspections) in 2022\n",
    "\n",
    "# subset open restaurant applications for restaurants that have valid food service establishment permit #\n",
    "processed_openRest.dropna(subset=['Food Service Establishment Permit #'], inplace=True)\n",
    "processed_openRest = processed_openRest[processed_openRest['Food Service Establishment Permit #'].str.isnumeric() == True]\n",
    "processed_openRest['Food Service Establishment Permit #'] = processed_openRest['Food Service Establishment Permit #'].astype('int64')\n",
    "\n",
    "# get list of unique restaurant #s from inspection dataset (these are the restaurants that were active during 2022) & process data for merge\n",
    "restList = pd.read_csv('raw_data\\\\DOHMH_New_York_City_Restaurant_Inspection_Results.csv')\n",
    "restList = restList[['CAMIS']].drop_duplicates()\n",
    "restList['CAMIS'] = restList['CAMIS'].astype(int)\n",
    "\n",
    "# merge datasets together to keep restaurants that were operating in 2022\n",
    "processed_curr_openRest = restList.merge(processed_openRest, left_on='CAMIS', right_on='Food Service Establishment Permit #', how='inner')"
   ]
  },
  {
   "cell_type": "code",
   "execution_count": 23,
   "metadata": {},
   "outputs": [],
   "source": [
    "# drop irrelevant columns\n",
    "processed_curr_openRest = processed_curr_openRest.drop(['CAMIS', 'Food Service Establishment Permit #', 'Latitude', 'Longitude'], axis=1)"
   ]
  },
  {
   "cell_type": "code",
   "execution_count": 29,
   "metadata": {},
   "outputs": [],
   "source": [
    "# groupby zipcode to get the number of open restaurants and the total seating area for each zipcode\n",
    "processed_curr_openRest_df = processed_curr_openRest.groupby(by='Postcode').sum().reset_index()"
   ]
  },
  {
   "attachments": {},
   "cell_type": "markdown",
   "metadata": {},
   "source": [
    "### Rat Complaint Dataset Data Cleaning"
   ]
  },
  {
   "cell_type": "code",
   "execution_count": 25,
   "metadata": {},
   "outputs": [
    {
     "name": "stderr",
     "output_type": "stream",
     "text": [
      "C:\\Users\\abonc\\AppData\\Local\\Temp\\ipykernel_38132\\3697131064.py:10: SettingWithCopyWarning: \n",
      "A value is trying to be set on a copy of a slice from a DataFrame\n",
      "\n",
      "See the caveats in the documentation: https://pandas.pydata.org/pandas-docs/stable/user_guide/indexing.html#returning-a-view-versus-a-copy\n",
      "  rats_2022_df.rename(columns={'created_date': 'RAT COUNT'}, inplace=True)\n"
     ]
    }
   ],
   "source": [
    "# convert complaint date to datetime\n",
    "rats_df['created_date'] = pd.to_datetime(rats_df['created_date'])\n",
    "\n",
    "# keep only incident zipcode and date of complaint\n",
    "rats_df = rats_df[['created_date', 'incident_zip']]\n",
    "\n",
    "# filter out for rat complaints only in 2022\n",
    "rats_2022_df = rats_df[(rats_df['created_date']>'2022') & (rats_df['created_date']<'2023')]\n",
    "\n",
    "rats_2022_df.rename(columns={'created_date': 'RAT COUNT'}, inplace=True)\n",
    "rats_2022_df = rats_2022_df.groupby(by='incident_zip').count().reset_index()\n"
   ]
  },
  {
   "attachments": {},
   "cell_type": "markdown",
   "metadata": {},
   "source": [
    "### Shapefile with NYC zip code polygons for plotting"
   ]
  },
  {
   "cell_type": "code",
   "execution_count": 26,
   "metadata": {},
   "outputs": [],
   "source": [
    "# keep relevant columns\n",
    "zipcodes = zipcodes[['ZIPCODE', 'POPULATION', 'AREA', 'geometry']]\n",
    "\n",
    "# change zipcode to interger for merge\n",
    "zipcodes['ZIPCODE'] = zipcodes['ZIPCODE'].astype(int)"
   ]
  },
  {
   "attachments": {},
   "cell_type": "markdown",
   "metadata": {},
   "source": [
    "### Merge Datasets together"
   ]
  },
  {
   "cell_type": "code",
   "execution_count": 43,
   "metadata": {},
   "outputs": [],
   "source": [
    "# merge together processes restautant inspection, open restaurant application, and rat complaint datasets\n",
    "features_df = processed_restInspections_df.merge(processed_curr_openRest_df,left_on=['ZIPCODE'], right_on=['Postcode'])\n",
    "features_df = rats_2022_df.merge(features_df, left_on=['incident_zip'], right_on=['ZIPCODE']).drop(['incident_zip'], axis=1)\n",
    "\n",
    "# merge geodataframe into processed dataset\n",
    "full_df = zipcodes.merge(features_df)"
   ]
  },
  {
   "cell_type": "code",
   "execution_count": 44,
   "metadata": {},
   "outputs": [
    {
     "data": {
      "text/html": [
       "<div>\n",
       "<style scoped>\n",
       "    .dataframe tbody tr th:only-of-type {\n",
       "        vertical-align: middle;\n",
       "    }\n",
       "\n",
       "    .dataframe tbody tr th {\n",
       "        vertical-align: top;\n",
       "    }\n",
       "\n",
       "    .dataframe thead th {\n",
       "        text-align: right;\n",
       "    }\n",
       "</style>\n",
       "<table border=\"1\" class=\"dataframe\">\n",
       "  <thead>\n",
       "    <tr style=\"text-align: right;\">\n",
       "      <th></th>\n",
       "      <th>ZIPCODE</th>\n",
       "      <th>POPULATION</th>\n",
       "      <th>AREA</th>\n",
       "      <th>geometry</th>\n",
       "      <th>RAT COUNT</th>\n",
       "      <th>SCORE</th>\n",
       "      <th>CRITICAL FLAG</th>\n",
       "      <th>ACTION</th>\n",
       "      <th>CUISINE DESCRIPTION_Afghan</th>\n",
       "      <th>CUISINE DESCRIPTION_African</th>\n",
       "      <th>...</th>\n",
       "      <th>CUISINE DESCRIPTION_Vegan</th>\n",
       "      <th>CUISINE DESCRIPTION_Vegetarian</th>\n",
       "      <th>AVG SCORE</th>\n",
       "      <th>AVG FLAGS</th>\n",
       "      <th>Postcode</th>\n",
       "      <th>Sidewalk Dimensions (Area)</th>\n",
       "      <th>Roadway Dimensions (Area)</th>\n",
       "      <th>Approved for Sidewalk Seating</th>\n",
       "      <th>Approved for Roadway Seating</th>\n",
       "      <th>Qualify Alcohol</th>\n",
       "    </tr>\n",
       "  </thead>\n",
       "  <tbody>\n",
       "    <tr>\n",
       "      <th>0</th>\n",
       "      <td>11213</td>\n",
       "      <td>62426.0</td>\n",
       "      <td>2.963100e+07</td>\n",
       "      <td>POLYGON ((1001613.713 186926.440, 1002314.243 ...</td>\n",
       "      <td>384</td>\n",
       "      <td>810.5</td>\n",
       "      <td>100.5</td>\n",
       "      <td>0.0</td>\n",
       "      <td>0</td>\n",
       "      <td>1</td>\n",
       "      <td>...</td>\n",
       "      <td>0</td>\n",
       "      <td>1</td>\n",
       "      <td>10.952703</td>\n",
       "      <td>1.358108</td>\n",
       "      <td>11213</td>\n",
       "      <td>4751.0</td>\n",
       "      <td>1848.0</td>\n",
       "      <td>14</td>\n",
       "      <td>9</td>\n",
       "      <td>8</td>\n",
       "    </tr>\n",
       "    <tr>\n",
       "      <th>1</th>\n",
       "      <td>11212</td>\n",
       "      <td>83866.0</td>\n",
       "      <td>4.197210e+07</td>\n",
       "      <td>POLYGON ((1011174.276 183696.338, 1011373.584 ...</td>\n",
       "      <td>165</td>\n",
       "      <td>855.0</td>\n",
       "      <td>99.0</td>\n",
       "      <td>0.0</td>\n",
       "      <td>0</td>\n",
       "      <td>0</td>\n",
       "      <td>...</td>\n",
       "      <td>0</td>\n",
       "      <td>0</td>\n",
       "      <td>10.426829</td>\n",
       "      <td>1.207317</td>\n",
       "      <td>11212</td>\n",
       "      <td>528.0</td>\n",
       "      <td>688.0</td>\n",
       "      <td>6</td>\n",
       "      <td>6</td>\n",
       "      <td>4</td>\n",
       "    </tr>\n",
       "    <tr>\n",
       "      <th>2</th>\n",
       "      <td>11225</td>\n",
       "      <td>56527.0</td>\n",
       "      <td>2.369863e+07</td>\n",
       "      <td>POLYGON ((995908.365 183617.613, 996522.848 18...</td>\n",
       "      <td>364</td>\n",
       "      <td>1054.5</td>\n",
       "      <td>127.5</td>\n",
       "      <td>0.0</td>\n",
       "      <td>0</td>\n",
       "      <td>0</td>\n",
       "      <td>...</td>\n",
       "      <td>0</td>\n",
       "      <td>2</td>\n",
       "      <td>11.461957</td>\n",
       "      <td>1.385870</td>\n",
       "      <td>11225</td>\n",
       "      <td>8963.0</td>\n",
       "      <td>4774.0</td>\n",
       "      <td>32</td>\n",
       "      <td>20</td>\n",
       "      <td>28</td>\n",
       "    </tr>\n",
       "    <tr>\n",
       "      <th>3</th>\n",
       "      <td>11218</td>\n",
       "      <td>72280.0</td>\n",
       "      <td>3.686880e+07</td>\n",
       "      <td>POLYGON ((991997.113 176307.496, 992042.798 17...</td>\n",
       "      <td>315</td>\n",
       "      <td>1163.5</td>\n",
       "      <td>141.0</td>\n",
       "      <td>0.0</td>\n",
       "      <td>1</td>\n",
       "      <td>0</td>\n",
       "      <td>...</td>\n",
       "      <td>0</td>\n",
       "      <td>0</td>\n",
       "      <td>11.519802</td>\n",
       "      <td>1.396040</td>\n",
       "      <td>11218</td>\n",
       "      <td>16750.0</td>\n",
       "      <td>5500.0</td>\n",
       "      <td>41</td>\n",
       "      <td>19</td>\n",
       "      <td>22</td>\n",
       "    </tr>\n",
       "    <tr>\n",
       "      <th>4</th>\n",
       "      <td>11226</td>\n",
       "      <td>106132.0</td>\n",
       "      <td>3.940860e+07</td>\n",
       "      <td>POLYGON ((994821.473 177865.718, 994891.817 17...</td>\n",
       "      <td>627</td>\n",
       "      <td>1677.0</td>\n",
       "      <td>185.5</td>\n",
       "      <td>0.0</td>\n",
       "      <td>0</td>\n",
       "      <td>2</td>\n",
       "      <td>...</td>\n",
       "      <td>1</td>\n",
       "      <td>4</td>\n",
       "      <td>10.889610</td>\n",
       "      <td>1.204545</td>\n",
       "      <td>11226</td>\n",
       "      <td>9653.0</td>\n",
       "      <td>3624.0</td>\n",
       "      <td>38</td>\n",
       "      <td>25</td>\n",
       "      <td>19</td>\n",
       "    </tr>\n",
       "  </tbody>\n",
       "</table>\n",
       "<p>5 rows × 101 columns</p>\n",
       "</div>"
      ],
      "text/plain": [
       "   ZIPCODE  POPULATION          AREA  \\\n",
       "0    11213     62426.0  2.963100e+07   \n",
       "1    11212     83866.0  4.197210e+07   \n",
       "2    11225     56527.0  2.369863e+07   \n",
       "3    11218     72280.0  3.686880e+07   \n",
       "4    11226    106132.0  3.940860e+07   \n",
       "\n",
       "                                            geometry  RAT COUNT   SCORE  \\\n",
       "0  POLYGON ((1001613.713 186926.440, 1002314.243 ...        384   810.5   \n",
       "1  POLYGON ((1011174.276 183696.338, 1011373.584 ...        165   855.0   \n",
       "2  POLYGON ((995908.365 183617.613, 996522.848 18...        364  1054.5   \n",
       "3  POLYGON ((991997.113 176307.496, 992042.798 17...        315  1163.5   \n",
       "4  POLYGON ((994821.473 177865.718, 994891.817 17...        627  1677.0   \n",
       "\n",
       "   CRITICAL FLAG  ACTION  CUISINE DESCRIPTION_Afghan  \\\n",
       "0          100.5     0.0                           0   \n",
       "1           99.0     0.0                           0   \n",
       "2          127.5     0.0                           0   \n",
       "3          141.0     0.0                           1   \n",
       "4          185.5     0.0                           0   \n",
       "\n",
       "   CUISINE DESCRIPTION_African  ...  CUISINE DESCRIPTION_Vegan  \\\n",
       "0                            1  ...                          0   \n",
       "1                            0  ...                          0   \n",
       "2                            0  ...                          0   \n",
       "3                            0  ...                          0   \n",
       "4                            2  ...                          1   \n",
       "\n",
       "   CUISINE DESCRIPTION_Vegetarian  AVG SCORE  AVG FLAGS  Postcode  \\\n",
       "0                               1  10.952703   1.358108     11213   \n",
       "1                               0  10.426829   1.207317     11212   \n",
       "2                               2  11.461957   1.385870     11225   \n",
       "3                               0  11.519802   1.396040     11218   \n",
       "4                               4  10.889610   1.204545     11226   \n",
       "\n",
       "   Sidewalk Dimensions (Area)  Roadway Dimensions (Area)  \\\n",
       "0                      4751.0                     1848.0   \n",
       "1                       528.0                      688.0   \n",
       "2                      8963.0                     4774.0   \n",
       "3                     16750.0                     5500.0   \n",
       "4                      9653.0                     3624.0   \n",
       "\n",
       "   Approved for Sidewalk Seating  Approved for Roadway Seating  \\\n",
       "0                             14                             9   \n",
       "1                              6                             6   \n",
       "2                             32                            20   \n",
       "3                             41                            19   \n",
       "4                             38                            25   \n",
       "\n",
       "   Qualify Alcohol  \n",
       "0                8  \n",
       "1                4  \n",
       "2               28  \n",
       "3               22  \n",
       "4               19  \n",
       "\n",
       "[5 rows x 101 columns]"
      ]
     },
     "execution_count": 44,
     "metadata": {},
     "output_type": "execute_result"
    }
   ],
   "source": [
    "full_df.head()"
   ]
  },
  {
   "attachments": {},
   "cell_type": "markdown",
   "metadata": {},
   "source": [
    "### Create CSV"
   ]
  },
  {
   "cell_type": "code",
   "execution_count": null,
   "metadata": {},
   "outputs": [],
   "source": [
    "from pathlib import Path  \n",
    "filepath = Path('processed_data/feature_data.csv')  \n",
    "filepath.parent.mkdir(parents=True, exist_ok=True)  \n",
    "full_df.to_csv(filepath)  "
   ]
  }
 ],
 "metadata": {
  "kernelspec": {
   "display_name": "Python 3",
   "language": "python",
   "name": "python3"
  },
  "language_info": {
   "codemirror_mode": {
    "name": "ipython",
    "version": 3
   },
   "file_extension": ".py",
   "mimetype": "text/x-python",
   "name": "python",
   "nbconvert_exporter": "python",
   "pygments_lexer": "ipython3",
   "version": "3.10.2"
  },
  "orig_nbformat": 4
 },
 "nbformat": 4,
 "nbformat_minor": 2
}
